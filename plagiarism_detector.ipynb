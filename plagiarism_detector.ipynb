{
 "cells": [
  {
   "cell_type": "code",
   "execution_count": 60,
   "id": "5ede822c",
   "metadata": {},
   "outputs": [],
   "source": [
    "#importing necessary packages\n",
    "import os\n",
    "import numpy as np\n",
    "import pandas as pd\n",
    "import matplotlib.pyplot as plt\n",
    "import seaborn as sns\n",
    "sns.set_style(\"whitegrid\")\n",
    "\n",
    "import warnings\n",
    "warnings.filterwarnings(\"ignore\")\n",
    "from sklearn.feature_extraction.text import CountVectorizer\n",
    "import wget\n",
    "from sklearn.model_selection import train_test_split\n",
    "from sklearn.ensemble import RandomForestClassifier\n",
    "from sklearn.metrics import f1_score,classification_report,confusion_matrix,roc_auc_score,roc_curve\n",
    "from collections import Counter"
   ]
  },
  {
   "cell_type": "code",
   "execution_count": 61,
   "id": "0dc5a54c",
   "metadata": {},
   "outputs": [],
   "source": [
    "#url to load data directly from the web\n",
    "#wget https://s3.amazonaws.com/video.udacity-data.com/topher/2019/January/5c4147f9_data/data.zip\n",
    "#unzip data"
   ]
  },
  {
   "cell_type": "code",
   "execution_count": 62,
   "id": "63d85330",
   "metadata": {
    "scrolled": true
   },
   "outputs": [
    {
     "data": {
      "text/html": [
       "<div>\n",
       "<style scoped>\n",
       "    .dataframe tbody tr th:only-of-type {\n",
       "        vertical-align: middle;\n",
       "    }\n",
       "\n",
       "    .dataframe tbody tr th {\n",
       "        vertical-align: top;\n",
       "    }\n",
       "\n",
       "    .dataframe thead th {\n",
       "        text-align: right;\n",
       "    }\n",
       "</style>\n",
       "<table border=\"1\" class=\"dataframe\">\n",
       "  <thead>\n",
       "    <tr style=\"text-align: right;\">\n",
       "      <th></th>\n",
       "      <th>File</th>\n",
       "      <th>Task</th>\n",
       "      <th>Category</th>\n",
       "    </tr>\n",
       "  </thead>\n",
       "  <tbody>\n",
       "    <tr>\n",
       "      <th>0</th>\n",
       "      <td>g0pA_taska.txt</td>\n",
       "      <td>a</td>\n",
       "      <td>non</td>\n",
       "    </tr>\n",
       "    <tr>\n",
       "      <th>1</th>\n",
       "      <td>g0pA_taskb.txt</td>\n",
       "      <td>b</td>\n",
       "      <td>cut</td>\n",
       "    </tr>\n",
       "    <tr>\n",
       "      <th>2</th>\n",
       "      <td>g0pA_taskc.txt</td>\n",
       "      <td>c</td>\n",
       "      <td>light</td>\n",
       "    </tr>\n",
       "    <tr>\n",
       "      <th>3</th>\n",
       "      <td>g0pA_taskd.txt</td>\n",
       "      <td>d</td>\n",
       "      <td>heavy</td>\n",
       "    </tr>\n",
       "    <tr>\n",
       "      <th>4</th>\n",
       "      <td>g0pA_taske.txt</td>\n",
       "      <td>e</td>\n",
       "      <td>non</td>\n",
       "    </tr>\n",
       "    <tr>\n",
       "      <th>5</th>\n",
       "      <td>g0pB_taska.txt</td>\n",
       "      <td>a</td>\n",
       "      <td>non</td>\n",
       "    </tr>\n",
       "    <tr>\n",
       "      <th>6</th>\n",
       "      <td>g0pB_taskb.txt</td>\n",
       "      <td>b</td>\n",
       "      <td>non</td>\n",
       "    </tr>\n",
       "    <tr>\n",
       "      <th>7</th>\n",
       "      <td>g0pB_taskc.txt</td>\n",
       "      <td>c</td>\n",
       "      <td>cut</td>\n",
       "    </tr>\n",
       "    <tr>\n",
       "      <th>8</th>\n",
       "      <td>g0pB_taskd.txt</td>\n",
       "      <td>d</td>\n",
       "      <td>light</td>\n",
       "    </tr>\n",
       "    <tr>\n",
       "      <th>9</th>\n",
       "      <td>g0pB_taske.txt</td>\n",
       "      <td>e</td>\n",
       "      <td>heavy</td>\n",
       "    </tr>\n",
       "  </tbody>\n",
       "</table>\n",
       "</div>"
      ],
      "text/plain": [
       "             File Task Category\n",
       "0  g0pA_taska.txt    a      non\n",
       "1  g0pA_taskb.txt    b      cut\n",
       "2  g0pA_taskc.txt    c    light\n",
       "3  g0pA_taskd.txt    d    heavy\n",
       "4  g0pA_taske.txt    e      non\n",
       "5  g0pB_taska.txt    a      non\n",
       "6  g0pB_taskb.txt    b      non\n",
       "7  g0pB_taskc.txt    c      cut\n",
       "8  g0pB_taskd.txt    d    light\n",
       "9  g0pB_taske.txt    e    heavy"
      ]
     },
     "execution_count": 62,
     "metadata": {},
     "output_type": "execute_result"
    }
   ],
   "source": [
    "#loading the data\n",
    "datapath = os.path.join(\"D:/machine learning/NLP/plagarism/Data/data\")\n",
    "csv_file = os.path.join(datapath,\"file_information.csv\")\n",
    "data = pd.read_csv(csv_file)\n",
    "data.head(10)"
   ]
  },
  {
   "cell_type": "markdown",
   "id": "e2e6dacd",
   "metadata": {},
   "source": [
    "### Exploratory data analysis"
   ]
  },
  {
   "cell_type": "code",
   "execution_count": 63,
   "id": "de65b9a7",
   "metadata": {},
   "outputs": [
    {
     "data": {
      "text/plain": [
       "File        0\n",
       "Task        0\n",
       "Category    0\n",
       "dtype: int64"
      ]
     },
     "execution_count": 63,
     "metadata": {},
     "output_type": "execute_result"
    }
   ],
   "source": [
    "#checking for any missing values in the data\n",
    "data.isna().sum()"
   ]
  },
  {
   "cell_type": "markdown",
   "id": "a614abd7",
   "metadata": {},
   "source": [
    "* There are no missing values in the data"
   ]
  },
  {
   "cell_type": "code",
   "execution_count": 64,
   "id": "952edd71",
   "metadata": {
    "scrolled": true
   },
   "outputs": [
    {
     "name": "stdout",
     "output_type": "stream",
     "text": [
      "<class 'pandas.core.frame.DataFrame'>\n",
      "RangeIndex: 100 entries, 0 to 99\n",
      "Data columns (total 3 columns):\n",
      " #   Column    Non-Null Count  Dtype \n",
      "---  ------    --------------  ----- \n",
      " 0   File      100 non-null    object\n",
      " 1   Task      100 non-null    object\n",
      " 2   Category  100 non-null    object\n",
      "dtypes: object(3)\n",
      "memory usage: 2.5+ KB\n",
      "None\n"
     ]
    }
   ],
   "source": [
    "print(data.info())"
   ]
  },
  {
   "cell_type": "code",
   "execution_count": 65,
   "id": "570c37cc",
   "metadata": {},
   "outputs": [
    {
     "name": "stdout",
     "output_type": "stream",
     "text": [
      "The no of files in the dataset are 100\n",
      "The number of unique tasks in the are 5\n",
      "Unique tasks:['a' 'b' 'c' 'd' 'e']\n",
      "Number of plagiarism categories are 5\n",
      "Unique categories:['non' 'cut' 'light' 'heavy' 'orig']\n"
     ]
    }
   ],
   "source": [
    "print(f\"The no of files in the dataset are {len(data)}\")\n",
    "print(f\"The number of unique tasks in the are {data['Task'].nunique()}\\nUnique tasks:{data['Task'].unique()}\")\n",
    "print(f\"Number of plagiarism categories are {data['Category'].nunique()}\\nUnique categories:{data['Category'].unique()}\")"
   ]
  },
  {
   "cell_type": "code",
   "execution_count": 66,
   "id": "e08cc4d9",
   "metadata": {
    "scrolled": false
   },
   "outputs": [
    {
     "name": "stdout",
     "output_type": "stream",
     "text": [
      "Count of files for each type of task\n"
     ]
    },
    {
     "data": {
      "text/html": [
       "<div>\n",
       "<style scoped>\n",
       "    .dataframe tbody tr th:only-of-type {\n",
       "        vertical-align: middle;\n",
       "    }\n",
       "\n",
       "    .dataframe tbody tr th {\n",
       "        vertical-align: top;\n",
       "    }\n",
       "\n",
       "    .dataframe thead th {\n",
       "        text-align: right;\n",
       "    }\n",
       "</style>\n",
       "<table border=\"1\" class=\"dataframe\">\n",
       "  <thead>\n",
       "    <tr style=\"text-align: right;\">\n",
       "      <th></th>\n",
       "      <th>Task</th>\n",
       "    </tr>\n",
       "  </thead>\n",
       "  <tbody>\n",
       "    <tr>\n",
       "      <th>a</th>\n",
       "      <td>20</td>\n",
       "    </tr>\n",
       "    <tr>\n",
       "      <th>b</th>\n",
       "      <td>20</td>\n",
       "    </tr>\n",
       "    <tr>\n",
       "      <th>c</th>\n",
       "      <td>20</td>\n",
       "    </tr>\n",
       "    <tr>\n",
       "      <th>d</th>\n",
       "      <td>20</td>\n",
       "    </tr>\n",
       "    <tr>\n",
       "      <th>e</th>\n",
       "      <td>20</td>\n",
       "    </tr>\n",
       "  </tbody>\n",
       "</table>\n",
       "</div>"
      ],
      "text/plain": [
       "   Task\n",
       "a    20\n",
       "b    20\n",
       "c    20\n",
       "d    20\n",
       "e    20"
      ]
     },
     "metadata": {},
     "output_type": "display_data"
    }
   ],
   "source": [
    "print(\"Count of files for each type of task\")\n",
    "display(pd.DataFrame(data['Task'].value_counts()))"
   ]
  },
  {
   "cell_type": "markdown",
   "id": "ed4e53cb",
   "metadata": {},
   "source": [
    "* Different task here indicates the different set of questions.\n",
    "* There are 5 set of questions i,e(a,b,c,d,e)."
   ]
  },
  {
   "cell_type": "code",
   "execution_count": 67,
   "id": "59bd78dc",
   "metadata": {
    "scrolled": true
   },
   "outputs": [
    {
     "name": "stdout",
     "output_type": "stream",
     "text": [
      "Count of files for each type of category\n"
     ]
    },
    {
     "data": {
      "text/html": [
       "<div>\n",
       "<style scoped>\n",
       "    .dataframe tbody tr th:only-of-type {\n",
       "        vertical-align: middle;\n",
       "    }\n",
       "\n",
       "    .dataframe tbody tr th {\n",
       "        vertical-align: top;\n",
       "    }\n",
       "\n",
       "    .dataframe thead th {\n",
       "        text-align: right;\n",
       "    }\n",
       "</style>\n",
       "<table border=\"1\" class=\"dataframe\">\n",
       "  <thead>\n",
       "    <tr style=\"text-align: right;\">\n",
       "      <th></th>\n",
       "      <th>Category</th>\n",
       "    </tr>\n",
       "  </thead>\n",
       "  <tbody>\n",
       "    <tr>\n",
       "      <th>non</th>\n",
       "      <td>38</td>\n",
       "    </tr>\n",
       "    <tr>\n",
       "      <th>cut</th>\n",
       "      <td>19</td>\n",
       "    </tr>\n",
       "    <tr>\n",
       "      <th>light</th>\n",
       "      <td>19</td>\n",
       "    </tr>\n",
       "    <tr>\n",
       "      <th>heavy</th>\n",
       "      <td>19</td>\n",
       "    </tr>\n",
       "    <tr>\n",
       "      <th>orig</th>\n",
       "      <td>5</td>\n",
       "    </tr>\n",
       "  </tbody>\n",
       "</table>\n",
       "</div>"
      ],
      "text/plain": [
       "       Category\n",
       "non          38\n",
       "cut          19\n",
       "light        19\n",
       "heavy        19\n",
       "orig          5"
      ]
     },
     "metadata": {},
     "output_type": "display_data"
    }
   ],
   "source": [
    "print(\"Count of files for each type of category\")\n",
    "display(pd.DataFrame(data['Category'].value_counts()))"
   ]
  },
  {
   "cell_type": "markdown",
   "id": "bacb6b79",
   "metadata": {},
   "source": [
    "* The orig in the category refers to the source text for each type of task i,e(a,b,c,d,e) and will be used to compare each answers with this source file(wikipedia source file).\n",
    "* The non category refers that the file or data is not plagiarised.\n",
    "* The other three categories that are cut>light>heavy indicates that the document/answers are plagiarised.\n",
    "   \n",
    "   **Cut** *indicates copy pasted plagiarism*\n",
    "   \n",
    "   **light** *indicates that the answer/document includes some sort of copying and paraphrasing from the source*\n",
    "   \n",
    "   **Heavy** *indicates that the document/answer is taken from the source but changing some of the words and also the structure(challenging type of plagiarism and hard to detect)*\n",
    "   "
   ]
  },
  {
   "cell_type": "code",
   "execution_count": 68,
   "id": "157141f7",
   "metadata": {
    "scrolled": false
   },
   "outputs": [
    {
     "data": {
      "text/html": [
       "<div>\n",
       "<style scoped>\n",
       "    .dataframe tbody tr th:only-of-type {\n",
       "        vertical-align: middle;\n",
       "    }\n",
       "\n",
       "    .dataframe tbody tr th {\n",
       "        vertical-align: top;\n",
       "    }\n",
       "\n",
       "    .dataframe thead th {\n",
       "        text-align: right;\n",
       "    }\n",
       "</style>\n",
       "<table border=\"1\" class=\"dataframe\">\n",
       "  <thead>\n",
       "    <tr style=\"text-align: right;\">\n",
       "      <th></th>\n",
       "      <th></th>\n",
       "      <th>File</th>\n",
       "    </tr>\n",
       "    <tr>\n",
       "      <th>Task</th>\n",
       "      <th>Category</th>\n",
       "      <th></th>\n",
       "    </tr>\n",
       "  </thead>\n",
       "  <tbody>\n",
       "    <tr>\n",
       "      <th rowspan=\"5\" valign=\"top\">a</th>\n",
       "      <th>cut</th>\n",
       "      <td>4</td>\n",
       "    </tr>\n",
       "    <tr>\n",
       "      <th>heavy</th>\n",
       "      <td>3</td>\n",
       "    </tr>\n",
       "    <tr>\n",
       "      <th>light</th>\n",
       "      <td>3</td>\n",
       "    </tr>\n",
       "    <tr>\n",
       "      <th>non</th>\n",
       "      <td>9</td>\n",
       "    </tr>\n",
       "    <tr>\n",
       "      <th>orig</th>\n",
       "      <td>1</td>\n",
       "    </tr>\n",
       "    <tr>\n",
       "      <th rowspan=\"5\" valign=\"top\">b</th>\n",
       "      <th>cut</th>\n",
       "      <td>3</td>\n",
       "    </tr>\n",
       "    <tr>\n",
       "      <th>heavy</th>\n",
       "      <td>4</td>\n",
       "    </tr>\n",
       "    <tr>\n",
       "      <th>light</th>\n",
       "      <td>3</td>\n",
       "    </tr>\n",
       "    <tr>\n",
       "      <th>non</th>\n",
       "      <td>9</td>\n",
       "    </tr>\n",
       "    <tr>\n",
       "      <th>orig</th>\n",
       "      <td>1</td>\n",
       "    </tr>\n",
       "    <tr>\n",
       "      <th rowspan=\"5\" valign=\"top\">c</th>\n",
       "      <th>cut</th>\n",
       "      <td>3</td>\n",
       "    </tr>\n",
       "    <tr>\n",
       "      <th>heavy</th>\n",
       "      <td>5</td>\n",
       "    </tr>\n",
       "    <tr>\n",
       "      <th>light</th>\n",
       "      <td>4</td>\n",
       "    </tr>\n",
       "    <tr>\n",
       "      <th>non</th>\n",
       "      <td>7</td>\n",
       "    </tr>\n",
       "    <tr>\n",
       "      <th>orig</th>\n",
       "      <td>1</td>\n",
       "    </tr>\n",
       "    <tr>\n",
       "      <th rowspan=\"5\" valign=\"top\">d</th>\n",
       "      <th>cut</th>\n",
       "      <td>4</td>\n",
       "    </tr>\n",
       "    <tr>\n",
       "      <th>heavy</th>\n",
       "      <td>4</td>\n",
       "    </tr>\n",
       "    <tr>\n",
       "      <th>light</th>\n",
       "      <td>5</td>\n",
       "    </tr>\n",
       "    <tr>\n",
       "      <th>non</th>\n",
       "      <td>6</td>\n",
       "    </tr>\n",
       "    <tr>\n",
       "      <th>orig</th>\n",
       "      <td>1</td>\n",
       "    </tr>\n",
       "    <tr>\n",
       "      <th rowspan=\"5\" valign=\"top\">e</th>\n",
       "      <th>cut</th>\n",
       "      <td>5</td>\n",
       "    </tr>\n",
       "    <tr>\n",
       "      <th>heavy</th>\n",
       "      <td>3</td>\n",
       "    </tr>\n",
       "    <tr>\n",
       "      <th>light</th>\n",
       "      <td>4</td>\n",
       "    </tr>\n",
       "    <tr>\n",
       "      <th>non</th>\n",
       "      <td>7</td>\n",
       "    </tr>\n",
       "    <tr>\n",
       "      <th>orig</th>\n",
       "      <td>1</td>\n",
       "    </tr>\n",
       "  </tbody>\n",
       "</table>\n",
       "</div>"
      ],
      "text/plain": [
       "               File\n",
       "Task Category      \n",
       "a    cut          4\n",
       "     heavy        3\n",
       "     light        3\n",
       "     non          9\n",
       "     orig         1\n",
       "b    cut          3\n",
       "     heavy        4\n",
       "     light        3\n",
       "     non          9\n",
       "     orig         1\n",
       "c    cut          3\n",
       "     heavy        5\n",
       "     light        4\n",
       "     non          7\n",
       "     orig         1\n",
       "d    cut          4\n",
       "     heavy        4\n",
       "     light        5\n",
       "     non          6\n",
       "     orig         1\n",
       "e    cut          5\n",
       "     heavy        3\n",
       "     light        4\n",
       "     non          7\n",
       "     orig         1"
      ]
     },
     "execution_count": 68,
     "metadata": {},
     "output_type": "execute_result"
    }
   ],
   "source": [
    "#grouping the data based on task and category level of  plagiarism\n",
    "task_cat_plagiarism=data.groupby(['Task','Category']).agg(\"count\")\n",
    "task_cat_plagiarism"
   ]
  },
  {
   "cell_type": "code",
   "execution_count": 69,
   "id": "2060004d",
   "metadata": {
    "scrolled": true
   },
   "outputs": [
    {
     "data": {
      "text/plain": [
       "Text(0.5, 1.0, 'Distribution of plagiarism category across different task')"
      ]
     },
     "execution_count": 69,
     "metadata": {},
     "output_type": "execute_result"
    },
    {
     "data": {
      "image/png": "[encoded data removed]",
      "text/plain": [
       "<Figure size 864x360 with 1 Axes>"
      ]
     },
     "metadata": {},
     "output_type": "display_data"
    }
   ],
   "source": [
    "plt.figure(figsize=(12,5))\n",
    "sns.countplot(data['Category'],hue=data['Task'])\n",
    "plt.title(\"Distribution of plagiarism category across different task\")"
   ]
  },
  {
   "cell_type": "code",
   "execution_count": 70,
   "id": "e76c718e",
   "metadata": {},
   "outputs": [],
   "source": [
    "#converting the Category column into numerical representations\n",
    "#indicating orig with -1 because it is a source document\n",
    "#assigning numerical values based on the level of plagiarism i,e higher value for higher degree of plagiarism\n",
    "category_map = {'non':0,'cut':3,'light':2,'heavy':1,'orig':-1} \n",
    "data['Category']=data['Category'].map(category_map)"
   ]
  },
  {
   "cell_type": "code",
   "execution_count": 71,
   "id": "b5a8cc2c",
   "metadata": {},
   "outputs": [],
   "source": [
    "#creating new column to indicate plagiarism {0 for no,1 for yes,-1 for source document}\n",
    "data['class'] = data['Category'].apply(lambda x:1 if x in [1,2,3] else x)"
   ]
  },
  {
   "cell_type": "code",
   "execution_count": 72,
   "id": "6ac9aa0c",
   "metadata": {
    "scrolled": true
   },
   "outputs": [
    {
     "data": {
      "text/html": [
       "<div>\n",
       "<style scoped>\n",
       "    .dataframe tbody tr th:only-of-type {\n",
       "        vertical-align: middle;\n",
       "    }\n",
       "\n",
       "    .dataframe tbody tr th {\n",
       "        vertical-align: top;\n",
       "    }\n",
       "\n",
       "    .dataframe thead th {\n",
       "        text-align: right;\n",
       "    }\n",
       "</style>\n",
       "<table border=\"1\" class=\"dataframe\">\n",
       "  <thead>\n",
       "    <tr style=\"text-align: right;\">\n",
       "      <th></th>\n",
       "      <th>File</th>\n",
       "      <th>Task</th>\n",
       "      <th>Category</th>\n",
       "      <th>class</th>\n",
       "    </tr>\n",
       "  </thead>\n",
       "  <tbody>\n",
       "    <tr>\n",
       "      <th>0</th>\n",
       "      <td>g0pA_taska.txt</td>\n",
       "      <td>a</td>\n",
       "      <td>0</td>\n",
       "      <td>0</td>\n",
       "    </tr>\n",
       "    <tr>\n",
       "      <th>1</th>\n",
       "      <td>g0pA_taskb.txt</td>\n",
       "      <td>b</td>\n",
       "      <td>3</td>\n",
       "      <td>1</td>\n",
       "    </tr>\n",
       "    <tr>\n",
       "      <th>2</th>\n",
       "      <td>g0pA_taskc.txt</td>\n",
       "      <td>c</td>\n",
       "      <td>2</td>\n",
       "      <td>1</td>\n",
       "    </tr>\n",
       "    <tr>\n",
       "      <th>3</th>\n",
       "      <td>g0pA_taskd.txt</td>\n",
       "      <td>d</td>\n",
       "      <td>1</td>\n",
       "      <td>1</td>\n",
       "    </tr>\n",
       "    <tr>\n",
       "      <th>4</th>\n",
       "      <td>g0pA_taske.txt</td>\n",
       "      <td>e</td>\n",
       "      <td>0</td>\n",
       "      <td>0</td>\n",
       "    </tr>\n",
       "    <tr>\n",
       "      <th>...</th>\n",
       "      <td>...</td>\n",
       "      <td>...</td>\n",
       "      <td>...</td>\n",
       "      <td>...</td>\n",
       "    </tr>\n",
       "    <tr>\n",
       "      <th>95</th>\n",
       "      <td>orig_taska.txt</td>\n",
       "      <td>a</td>\n",
       "      <td>-1</td>\n",
       "      <td>-1</td>\n",
       "    </tr>\n",
       "    <tr>\n",
       "      <th>96</th>\n",
       "      <td>orig_taskb.txt</td>\n",
       "      <td>b</td>\n",
       "      <td>-1</td>\n",
       "      <td>-1</td>\n",
       "    </tr>\n",
       "    <tr>\n",
       "      <th>97</th>\n",
       "      <td>orig_taskc.txt</td>\n",
       "      <td>c</td>\n",
       "      <td>-1</td>\n",
       "      <td>-1</td>\n",
       "    </tr>\n",
       "    <tr>\n",
       "      <th>98</th>\n",
       "      <td>orig_taskd.txt</td>\n",
       "      <td>d</td>\n",
       "      <td>-1</td>\n",
       "      <td>-1</td>\n",
       "    </tr>\n",
       "    <tr>\n",
       "      <th>99</th>\n",
       "      <td>orig_taske.txt</td>\n",
       "      <td>e</td>\n",
       "      <td>-1</td>\n",
       "      <td>-1</td>\n",
       "    </tr>\n",
       "  </tbody>\n",
       "</table>\n",
       "<p>100 rows × 4 columns</p>\n",
       "</div>"
      ],
      "text/plain": [
       "              File Task  Category  class\n",
       "0   g0pA_taska.txt    a         0      0\n",
       "1   g0pA_taskb.txt    b         3      1\n",
       "2   g0pA_taskc.txt    c         2      1\n",
       "3   g0pA_taskd.txt    d         1      1\n",
       "4   g0pA_taske.txt    e         0      0\n",
       "..             ...  ...       ...    ...\n",
       "95  orig_taska.txt    a        -1     -1\n",
       "96  orig_taskb.txt    b        -1     -1\n",
       "97  orig_taskc.txt    c        -1     -1\n",
       "98  orig_taskd.txt    d        -1     -1\n",
       "99  orig_taske.txt    e        -1     -1\n",
       "\n",
       "[100 rows x 4 columns]"
      ]
     },
     "execution_count": 72,
     "metadata": {},
     "output_type": "execute_result"
    }
   ],
   "source": [
    "data"
   ]
  },
  {
   "cell_type": "code",
   "execution_count": 73,
   "id": "d1ca5bd9",
   "metadata": {},
   "outputs": [],
   "source": [
    "#creating a function to extract text data from textfiles\n",
    "def extract_data_from_txt(filename):\n",
    "    path = os.path.join(datapath,filename)\n",
    "    try:\n",
    "        text = open(path).read()\n",
    "    except UnicodeDecodeError: #to handle error related to encoding\n",
    "        text = open(path,encoding='utf-8').read()\n",
    "        return text\n",
    "    else:\n",
    "        return text"
   ]
  },
  {
   "cell_type": "code",
   "execution_count": 74,
   "id": "c461960d",
   "metadata": {},
   "outputs": [],
   "source": [
    "#extracting data into nthe new column in the dataframe\n",
    "data['FileText'] = data['File'].apply(extract_data_from_txt)"
   ]
  },
  {
   "cell_type": "code",
   "execution_count": 75,
   "id": "35329845",
   "metadata": {
    "scrolled": true
   },
   "outputs": [
    {
     "data": {
      "text/html": [
       "<div>\n",
       "<style scoped>\n",
       "    .dataframe tbody tr th:only-of-type {\n",
       "        vertical-align: middle;\n",
       "    }\n",
       "\n",
       "    .dataframe tbody tr th {\n",
       "        vertical-align: top;\n",
       "    }\n",
       "\n",
       "    .dataframe thead th {\n",
       "        text-align: right;\n",
       "    }\n",
       "</style>\n",
       "<table border=\"1\" class=\"dataframe\">\n",
       "  <thead>\n",
       "    <tr style=\"text-align: right;\">\n",
       "      <th></th>\n",
       "      <th>File</th>\n",
       "      <th>Task</th>\n",
       "      <th>Category</th>\n",
       "      <th>class</th>\n",
       "      <th>FileText</th>\n",
       "    </tr>\n",
       "  </thead>\n",
       "  <tbody>\n",
       "    <tr>\n",
       "      <th>0</th>\n",
       "      <td>g0pA_taska.txt</td>\n",
       "      <td>a</td>\n",
       "      <td>0</td>\n",
       "      <td>0</td>\n",
       "      <td>Inheritance is a basic concept of Object-Orien...</td>\n",
       "    </tr>\n",
       "    <tr>\n",
       "      <th>1</th>\n",
       "      <td>g0pA_taskb.txt</td>\n",
       "      <td>b</td>\n",
       "      <td>3</td>\n",
       "      <td>1</td>\n",
       "      <td>PageRank is a link analysis algorithm used by ...</td>\n",
       "    </tr>\n",
       "    <tr>\n",
       "      <th>2</th>\n",
       "      <td>g0pA_taskc.txt</td>\n",
       "      <td>c</td>\n",
       "      <td>2</td>\n",
       "      <td>1</td>\n",
       "      <td>The vector space model (also called, term vect...</td>\n",
       "    </tr>\n",
       "    <tr>\n",
       "      <th>3</th>\n",
       "      <td>g0pA_taskd.txt</td>\n",
       "      <td>d</td>\n",
       "      <td>1</td>\n",
       "      <td>1</td>\n",
       "      <td>Bayes’ theorem was names after Rev Thomas Baye...</td>\n",
       "    </tr>\n",
       "    <tr>\n",
       "      <th>4</th>\n",
       "      <td>g0pA_taske.txt</td>\n",
       "      <td>e</td>\n",
       "      <td>0</td>\n",
       "      <td>0</td>\n",
       "      <td>Dynamic Programming is an algorithm design tec...</td>\n",
       "    </tr>\n",
       "    <tr>\n",
       "      <th>...</th>\n",
       "      <td>...</td>\n",
       "      <td>...</td>\n",
       "      <td>...</td>\n",
       "      <td>...</td>\n",
       "      <td>...</td>\n",
       "    </tr>\n",
       "    <tr>\n",
       "      <th>95</th>\n",
       "      <td>orig_taska.txt</td>\n",
       "      <td>a</td>\n",
       "      <td>-1</td>\n",
       "      <td>-1</td>\n",
       "      <td>In object-oriented programming, inheritance is...</td>\n",
       "    </tr>\n",
       "    <tr>\n",
       "      <th>96</th>\n",
       "      <td>orig_taskb.txt</td>\n",
       "      <td>b</td>\n",
       "      <td>-1</td>\n",
       "      <td>-1</td>\n",
       "      <td>PageRank is a link analysis algorithm used by ...</td>\n",
       "    </tr>\n",
       "    <tr>\n",
       "      <th>97</th>\n",
       "      <td>orig_taskc.txt</td>\n",
       "      <td>c</td>\n",
       "      <td>-1</td>\n",
       "      <td>-1</td>\n",
       "      <td>Vector space model (or term vector model) is a...</td>\n",
       "    </tr>\n",
       "    <tr>\n",
       "      <th>98</th>\n",
       "      <td>orig_taskd.txt</td>\n",
       "      <td>d</td>\n",
       "      <td>-1</td>\n",
       "      <td>-1</td>\n",
       "      <td>In probability theory, Bayes' theorem (often c...</td>\n",
       "    </tr>\n",
       "    <tr>\n",
       "      <th>99</th>\n",
       "      <td>orig_taske.txt</td>\n",
       "      <td>e</td>\n",
       "      <td>-1</td>\n",
       "      <td>-1</td>\n",
       "      <td>In mathematics and computer science, dynamic p...</td>\n",
       "    </tr>\n",
       "  </tbody>\n",
       "</table>\n",
       "<p>100 rows × 5 columns</p>\n",
       "</div>"
      ],
      "text/plain": [
       "              File Task  Category  class  \\\n",
       "0   g0pA_taska.txt    a         0      0   \n",
       "1   g0pA_taskb.txt    b         3      1   \n",
       "2   g0pA_taskc.txt    c         2      1   \n",
       "3   g0pA_taskd.txt    d         1      1   \n",
       "4   g0pA_taske.txt    e         0      0   \n",
       "..             ...  ...       ...    ...   \n",
       "95  orig_taska.txt    a        -1     -1   \n",
       "96  orig_taskb.txt    b        -1     -1   \n",
       "97  orig_taskc.txt    c        -1     -1   \n",
       "98  orig_taskd.txt    d        -1     -1   \n",
       "99  orig_taske.txt    e        -1     -1   \n",
       "\n",
       "                                             FileText  \n",
       "0   Inheritance is a basic concept of Object-Orien...  \n",
       "1   PageRank is a link analysis algorithm used by ...  \n",
       "2   The vector space model (also called, term vect...  \n",
       "3   Bayes’ theorem was names after Rev Thomas Baye...  \n",
       "4   Dynamic Programming is an algorithm design tec...  \n",
       "..                                                ...  \n",
       "95  In object-oriented programming, inheritance is...  \n",
       "96  PageRank is a link analysis algorithm used by ...  \n",
       "97  Vector space model (or term vector model) is a...  \n",
       "98  In probability theory, Bayes' theorem (often c...  \n",
       "99  In mathematics and computer science, dynamic p...  \n",
       "\n",
       "[100 rows x 5 columns]"
      ]
     },
     "execution_count": 75,
     "metadata": {},
     "output_type": "execute_result"
    }
   ],
   "source": [
    "data"
   ]
  },
  {
   "cell_type": "code",
   "execution_count": 76,
   "id": "dfa0bccd",
   "metadata": {
    "scrolled": false
   },
   "outputs": [
    {
     "name": "stdout",
     "output_type": "stream",
     "text": [
      "Inheritance is a basic concept of Object-Oriented Programming where\n",
      "the basic idea is to create new classes that add extra detail to\n",
      "existing classes. This is done by allowing the new classes to reuse\n",
      "the methods and variables of the existing classes and new methods and\n",
      "classes are added to specialise the new class. Inheritance models the\n",
      "“is-kind-of” relationship between entities (or objects), for example,\n",
      "postgraduates and undergraduates are both kinds of student. This kind\n",
      "of relationship can be visualised as a tree structure, where ‘student’\n",
      "would be the more general root node and both ‘postgraduate’ and\n",
      "‘undergraduate’ would be more specialised extensions of the ‘student’\n",
      "node (or the child nodes). In this relationship ‘student’ would be\n",
      "known as the superclass or parent class whereas, ‘postgraduate’ would\n",
      "be known as the subclass or child class because the ‘postgraduate’\n",
      "class extends the ‘student’ class.\n",
      "\n",
      "Inheritance can occur on several layers, where if visualised would\n",
      "display a larger tree structure. For example, we could further extend\n",
      "the ‘postgraduate’ node by adding two extra extended classes to it\n",
      "called, ‘MSc Student’ and ‘PhD Student’ as both these types of student\n",
      "are kinds of postgraduate student. This would mean that both the ‘MSc\n",
      "Student’ and ‘PhD Student’ classes would inherit methods and variables\n",
      "from both the ‘postgraduate’ and ‘student classes’.\n",
      "\n"
     ]
    }
   ],
   "source": [
    "#visualising the text in the file\n",
    "print(data['FileText'][0])"
   ]
  },
  {
   "cell_type": "markdown",
   "id": "dc962b0d",
   "metadata": {},
   "source": [
    "### Feature Engineering\n",
    "* To know whether a document/answer has been plagiarized or not we have to check the similarity between the document and the source.\n",
    "* To check this similarity we have to extract the similarity features\n",
    "* Some of the similarity features that are considered for the feature extraction are:\n",
    "        * Containment Features\n",
    "        * Longest Common Subsequence"
   ]
  },
  {
   "cell_type": "code",
   "execution_count": 77,
   "id": "79531f46",
   "metadata": {},
   "outputs": [
    {
     "data": {
      "text/html": [
       "<div>\n",
       "<style scoped>\n",
       "    .dataframe tbody tr th:only-of-type {\n",
       "        vertical-align: middle;\n",
       "    }\n",
       "\n",
       "    .dataframe tbody tr th {\n",
       "        vertical-align: top;\n",
       "    }\n",
       "\n",
       "    .dataframe thead th {\n",
       "        text-align: right;\n",
       "    }\n",
       "</style>\n",
       "<table border=\"1\" class=\"dataframe\">\n",
       "  <thead>\n",
       "    <tr style=\"text-align: right;\">\n",
       "      <th></th>\n",
       "      <th>File</th>\n",
       "      <th>Task</th>\n",
       "      <th>SourceText</th>\n",
       "    </tr>\n",
       "  </thead>\n",
       "  <tbody>\n",
       "    <tr>\n",
       "      <th>0</th>\n",
       "      <td>orig_taska.txt</td>\n",
       "      <td>a</td>\n",
       "      <td>In object-oriented programming, inheritance is...</td>\n",
       "    </tr>\n",
       "    <tr>\n",
       "      <th>1</th>\n",
       "      <td>orig_taskb.txt</td>\n",
       "      <td>b</td>\n",
       "      <td>PageRank is a link analysis algorithm used by ...</td>\n",
       "    </tr>\n",
       "    <tr>\n",
       "      <th>2</th>\n",
       "      <td>orig_taskc.txt</td>\n",
       "      <td>c</td>\n",
       "      <td>Vector space model (or term vector model) is a...</td>\n",
       "    </tr>\n",
       "    <tr>\n",
       "      <th>3</th>\n",
       "      <td>orig_taskd.txt</td>\n",
       "      <td>d</td>\n",
       "      <td>In probability theory, Bayes' theorem (often c...</td>\n",
       "    </tr>\n",
       "    <tr>\n",
       "      <th>4</th>\n",
       "      <td>orig_taske.txt</td>\n",
       "      <td>e</td>\n",
       "      <td>In mathematics and computer science, dynamic p...</td>\n",
       "    </tr>\n",
       "  </tbody>\n",
       "</table>\n",
       "</div>"
      ],
      "text/plain": [
       "             File Task                                         SourceText\n",
       "0  orig_taska.txt    a  In object-oriented programming, inheritance is...\n",
       "1  orig_taskb.txt    b  PageRank is a link analysis algorithm used by ...\n",
       "2  orig_taskc.txt    c  Vector space model (or term vector model) is a...\n",
       "3  orig_taskd.txt    d  In probability theory, Bayes' theorem (often c...\n",
       "4  orig_taske.txt    e  In mathematics and computer science, dynamic p..."
      ]
     },
     "execution_count": 77,
     "metadata": {},
     "output_type": "execute_result"
    }
   ],
   "source": [
    "#extracting the original(source) files from the data and creating a seperate dataframe\n",
    "sources = pd.DataFrame(data.iloc[95:,:]).reset_index(drop=True)\n",
    "\n",
    "#removing the unnecessary columns\n",
    "sources.drop(['Category','class'],axis=1,inplace=True)\n",
    "\n",
    "#changing the column names\n",
    "sources.rename(columns={'FileText':\"SourceText\"},inplace=True)\n",
    "\n",
    "sources"
   ]
  },
  {
   "cell_type": "code",
   "execution_count": 78,
   "id": "e5ce1cb6",
   "metadata": {},
   "outputs": [
    {
     "data": {
      "text/html": [
       "<div>\n",
       "<style scoped>\n",
       "    .dataframe tbody tr th:only-of-type {\n",
       "        vertical-align: middle;\n",
       "    }\n",
       "\n",
       "    .dataframe tbody tr th {\n",
       "        vertical-align: top;\n",
       "    }\n",
       "\n",
       "    .dataframe thead th {\n",
       "        text-align: right;\n",
       "    }\n",
       "</style>\n",
       "<table border=\"1\" class=\"dataframe\">\n",
       "  <thead>\n",
       "    <tr style=\"text-align: right;\">\n",
       "      <th></th>\n",
       "      <th>File</th>\n",
       "      <th>Task</th>\n",
       "      <th>Category</th>\n",
       "      <th>class</th>\n",
       "      <th>FileText</th>\n",
       "    </tr>\n",
       "  </thead>\n",
       "  <tbody>\n",
       "    <tr>\n",
       "      <th>0</th>\n",
       "      <td>g0pA_taska.txt</td>\n",
       "      <td>a</td>\n",
       "      <td>0</td>\n",
       "      <td>0</td>\n",
       "      <td>Inheritance is a basic concept of Object-Orien...</td>\n",
       "    </tr>\n",
       "    <tr>\n",
       "      <th>1</th>\n",
       "      <td>g0pA_taskb.txt</td>\n",
       "      <td>b</td>\n",
       "      <td>3</td>\n",
       "      <td>1</td>\n",
       "      <td>PageRank is a link analysis algorithm used by ...</td>\n",
       "    </tr>\n",
       "    <tr>\n",
       "      <th>2</th>\n",
       "      <td>g0pA_taskc.txt</td>\n",
       "      <td>c</td>\n",
       "      <td>2</td>\n",
       "      <td>1</td>\n",
       "      <td>The vector space model (also called, term vect...</td>\n",
       "    </tr>\n",
       "    <tr>\n",
       "      <th>3</th>\n",
       "      <td>g0pA_taskd.txt</td>\n",
       "      <td>d</td>\n",
       "      <td>1</td>\n",
       "      <td>1</td>\n",
       "      <td>Bayes’ theorem was names after Rev Thomas Baye...</td>\n",
       "    </tr>\n",
       "    <tr>\n",
       "      <th>4</th>\n",
       "      <td>g0pA_taske.txt</td>\n",
       "      <td>e</td>\n",
       "      <td>0</td>\n",
       "      <td>0</td>\n",
       "      <td>Dynamic Programming is an algorithm design tec...</td>\n",
       "    </tr>\n",
       "    <tr>\n",
       "      <th>...</th>\n",
       "      <td>...</td>\n",
       "      <td>...</td>\n",
       "      <td>...</td>\n",
       "      <td>...</td>\n",
       "      <td>...</td>\n",
       "    </tr>\n",
       "    <tr>\n",
       "      <th>90</th>\n",
       "      <td>g4pE_taska.txt</td>\n",
       "      <td>a</td>\n",
       "      <td>1</td>\n",
       "      <td>1</td>\n",
       "      <td>Object oriented programming is a  style of pro...</td>\n",
       "    </tr>\n",
       "    <tr>\n",
       "      <th>91</th>\n",
       "      <td>g4pE_taskb.txt</td>\n",
       "      <td>b</td>\n",
       "      <td>2</td>\n",
       "      <td>1</td>\n",
       "      <td>PageRankalgorithm is also known as link analys...</td>\n",
       "    </tr>\n",
       "    <tr>\n",
       "      <th>92</th>\n",
       "      <td>g4pE_taskc.txt</td>\n",
       "      <td>c</td>\n",
       "      <td>3</td>\n",
       "      <td>1</td>\n",
       "      <td>The definition of term depends on the applicat...</td>\n",
       "    </tr>\n",
       "    <tr>\n",
       "      <th>93</th>\n",
       "      <td>g4pE_taskd.txt</td>\n",
       "      <td>d</td>\n",
       "      <td>0</td>\n",
       "      <td>0</td>\n",
       "      <td>\"Bayes' Theorem\" or \"Bayes' Rule\", or somethin...</td>\n",
       "    </tr>\n",
       "    <tr>\n",
       "      <th>94</th>\n",
       "      <td>g4pE_taske.txt</td>\n",
       "      <td>e</td>\n",
       "      <td>0</td>\n",
       "      <td>0</td>\n",
       "      <td>Dynamic programming is a method for efficient...</td>\n",
       "    </tr>\n",
       "  </tbody>\n",
       "</table>\n",
       "<p>95 rows × 5 columns</p>\n",
       "</div>"
      ],
      "text/plain": [
       "              File Task  Category  class  \\\n",
       "0   g0pA_taska.txt    a         0      0   \n",
       "1   g0pA_taskb.txt    b         3      1   \n",
       "2   g0pA_taskc.txt    c         2      1   \n",
       "3   g0pA_taskd.txt    d         1      1   \n",
       "4   g0pA_taske.txt    e         0      0   \n",
       "..             ...  ...       ...    ...   \n",
       "90  g4pE_taska.txt    a         1      1   \n",
       "91  g4pE_taskb.txt    b         2      1   \n",
       "92  g4pE_taskc.txt    c         3      1   \n",
       "93  g4pE_taskd.txt    d         0      0   \n",
       "94  g4pE_taske.txt    e         0      0   \n",
       "\n",
       "                                             FileText  \n",
       "0   Inheritance is a basic concept of Object-Orien...  \n",
       "1   PageRank is a link analysis algorithm used by ...  \n",
       "2   The vector space model (also called, term vect...  \n",
       "3   Bayes’ theorem was names after Rev Thomas Baye...  \n",
       "4   Dynamic Programming is an algorithm design tec...  \n",
       "..                                                ...  \n",
       "90  Object oriented programming is a  style of pro...  \n",
       "91  PageRankalgorithm is also known as link analys...  \n",
       "92  The definition of term depends on the applicat...  \n",
       "93  \"Bayes' Theorem\" or \"Bayes' Rule\", or somethin...  \n",
       "94   Dynamic programming is a method for efficient...  \n",
       "\n",
       "[95 rows x 5 columns]"
      ]
     },
     "execution_count": 78,
     "metadata": {},
     "output_type": "execute_result"
    }
   ],
   "source": [
    "#removing the sources from the original dataframe\n",
    "#removing last 5 rows which are the source document\n",
    "data_cleaned = data.iloc[:95,:]\n",
    "data_cleaned"
   ]
  },
  {
   "cell_type": "code",
   "execution_count": 79,
   "id": "adb1fcae",
   "metadata": {},
   "outputs": [],
   "source": [
    "#creating a function to extract the source text for the given answer file\n",
    "def get_doc_and_Source(dataframe,filename):\n",
    "    doc_text = dataframe['FileText'][dataframe['File']==filename].iloc[0]\n",
    "    task_code = dataframe['Task'][dataframe['File']==filename].iloc[0]\n",
    "    source_text = sources['SourceText'][sources['Task']==task_code].iloc[0]\n",
    "    return doc_text,source_text"
   ]
  },
  {
   "cell_type": "code",
   "execution_count": 80,
   "id": "f93233f1",
   "metadata": {},
   "outputs": [],
   "source": [
    "#creating a function to create containment features and containment calculation\n",
    "#setting the default Ngram range to 3 \n",
    "def containment_feat_and_calc(dataframe,filename,n=3):\n",
    "    doc_text,source_text = get_doc_and_Source(dataframe,filename)\n",
    "    cv = CountVectorizer(analyzer='word',ngram_range=(n,n))\n",
    "    vocab = cv.fit([doc_text,source_text]).vocabulary_\n",
    "    #extracting the features\n",
    "    counts = cv.fit_transform([doc_text,source_text]).toarray()\n",
    "    #to get the intersection \n",
    "    intersection = np.amin(counts,axis=0)\n",
    "    #calculating the sum of intersection\n",
    "    summed_int = np.sum(intersection)\n",
    "    # no of ngrams in answer(denominator)\n",
    "    ans_ngram_count = np.sum(counts[0])\n",
    "    return summed_int/ans_ngram_count "
   ]
  },
  {
   "cell_type": "code",
   "execution_count": 81,
   "id": "08524694",
   "metadata": {},
   "outputs": [],
   "source": [
    "\"\"\"creating a function to extract the normalized longest common subsequence\n",
    "value by taking test and source document as input\"\"\"\n",
    "def longest_common_sub(dataframe,filename):\n",
    "    doc_text,source_text=get_doc_and_Source(dataframe,filename)\n",
    "    doc=doc_text.split()\n",
    "    source=source_text.split()\n",
    "    n=len(doc)\n",
    "    m=len(source)\n",
    "    matrix = np.zeros((n+1,m+1))\n",
    "    for i,doc_token in enumerate(doc,start=1):\n",
    "        for j,soc_token in enumerate(source,start=1):\n",
    "            if doc_token==soc_token:\n",
    "                matrix[i,j]=matrix[i-1,j-1]+1\n",
    "            else:\n",
    "                matrix[i,j]=max(matrix[i-1,j],matrix[i,j-1])\n",
    "    lcs_count = matrix[n,m]\n",
    "    return lcs_count/n"
   ]
  },
  {
   "cell_type": "code",
   "execution_count": 82,
   "id": "a18e78d0",
   "metadata": {},
   "outputs": [],
   "source": [
    "#creating a function to extract features in the form of dataframe\n",
    "def feature_generator(data,ngram_range,lcs=True):\n",
    "    \"\"\"here ngram_range indicates the number of n grams to consider for the containment features\"\"\"\n",
    "    features =pd.DataFrame()\n",
    "    for i in range(1,ngram_range+1):\n",
    "        features[\"ngram_\"+str(i)] = [containment_feat_and_calc(data,doc,n=i) for doc in data['File']]\n",
    "    if lcs:\n",
    "        features['Normalized_LCS'] = [longest_common_sub(data,doc) for doc in data['File']]\n",
    "    return features"
   ]
  },
  {
   "cell_type": "code",
   "execution_count": 83,
   "id": "64266740",
   "metadata": {},
   "outputs": [],
   "source": [
    "#extracting the features\n",
    "features = feature_generator(data_cleaned,ngram_range=8)"
   ]
  },
  {
   "cell_type": "code",
   "execution_count": 84,
   "id": "4f0d3b86",
   "metadata": {
    "scrolled": true
   },
   "outputs": [
    {
     "data": {
      "text/html": [
       "<div>\n",
       "<style scoped>\n",
       "    .dataframe tbody tr th:only-of-type {\n",
       "        vertical-align: middle;\n",
       "    }\n",
       "\n",
       "    .dataframe tbody tr th {\n",
       "        vertical-align: top;\n",
       "    }\n",
       "\n",
       "    .dataframe thead th {\n",
       "        text-align: right;\n",
       "    }\n",
       "</style>\n",
       "<table border=\"1\" class=\"dataframe\">\n",
       "  <thead>\n",
       "    <tr style=\"text-align: right;\">\n",
       "      <th></th>\n",
       "      <th>ngram_1</th>\n",
       "      <th>ngram_2</th>\n",
       "      <th>ngram_3</th>\n",
       "      <th>ngram_4</th>\n",
       "      <th>ngram_5</th>\n",
       "      <th>ngram_6</th>\n",
       "      <th>ngram_7</th>\n",
       "      <th>ngram_8</th>\n",
       "      <th>Normalized_LCS</th>\n",
       "    </tr>\n",
       "  </thead>\n",
       "  <tbody>\n",
       "    <tr>\n",
       "      <th>0</th>\n",
       "      <td>0.398148</td>\n",
       "      <td>0.079070</td>\n",
       "      <td>0.009346</td>\n",
       "      <td>0.000000</td>\n",
       "      <td>0.000000</td>\n",
       "      <td>0.000000</td>\n",
       "      <td>0.000000</td>\n",
       "      <td>0.000000</td>\n",
       "      <td>0.166667</td>\n",
       "    </tr>\n",
       "    <tr>\n",
       "      <th>1</th>\n",
       "      <td>0.994924</td>\n",
       "      <td>0.974490</td>\n",
       "      <td>0.948718</td>\n",
       "      <td>0.922680</td>\n",
       "      <td>0.896373</td>\n",
       "      <td>0.869792</td>\n",
       "      <td>0.842932</td>\n",
       "      <td>0.815789</td>\n",
       "      <td>0.786408</td>\n",
       "    </tr>\n",
       "    <tr>\n",
       "      <th>2</th>\n",
       "      <td>0.869369</td>\n",
       "      <td>0.719457</td>\n",
       "      <td>0.613636</td>\n",
       "      <td>0.515982</td>\n",
       "      <td>0.449541</td>\n",
       "      <td>0.382488</td>\n",
       "      <td>0.319444</td>\n",
       "      <td>0.265116</td>\n",
       "      <td>0.745536</td>\n",
       "    </tr>\n",
       "    <tr>\n",
       "      <th>3</th>\n",
       "      <td>0.593583</td>\n",
       "      <td>0.268817</td>\n",
       "      <td>0.156757</td>\n",
       "      <td>0.108696</td>\n",
       "      <td>0.081967</td>\n",
       "      <td>0.060440</td>\n",
       "      <td>0.044199</td>\n",
       "      <td>0.027778</td>\n",
       "      <td>0.264249</td>\n",
       "    </tr>\n",
       "    <tr>\n",
       "      <th>4</th>\n",
       "      <td>0.544503</td>\n",
       "      <td>0.115789</td>\n",
       "      <td>0.031746</td>\n",
       "      <td>0.005319</td>\n",
       "      <td>0.000000</td>\n",
       "      <td>0.000000</td>\n",
       "      <td>0.000000</td>\n",
       "      <td>0.000000</td>\n",
       "      <td>0.210811</td>\n",
       "    </tr>\n",
       "    <tr>\n",
       "      <th>5</th>\n",
       "      <td>0.329502</td>\n",
       "      <td>0.053846</td>\n",
       "      <td>0.007722</td>\n",
       "      <td>0.003876</td>\n",
       "      <td>0.000000</td>\n",
       "      <td>0.000000</td>\n",
       "      <td>0.000000</td>\n",
       "      <td>0.000000</td>\n",
       "      <td>0.141844</td>\n",
       "    </tr>\n",
       "    <tr>\n",
       "      <th>6</th>\n",
       "      <td>0.590308</td>\n",
       "      <td>0.150442</td>\n",
       "      <td>0.035556</td>\n",
       "      <td>0.004464</td>\n",
       "      <td>0.000000</td>\n",
       "      <td>0.000000</td>\n",
       "      <td>0.000000</td>\n",
       "      <td>0.000000</td>\n",
       "      <td>0.264000</td>\n",
       "    </tr>\n",
       "    <tr>\n",
       "      <th>7</th>\n",
       "      <td>0.765306</td>\n",
       "      <td>0.709898</td>\n",
       "      <td>0.664384</td>\n",
       "      <td>0.625430</td>\n",
       "      <td>0.589655</td>\n",
       "      <td>0.553633</td>\n",
       "      <td>0.520833</td>\n",
       "      <td>0.487805</td>\n",
       "      <td>0.593443</td>\n",
       "    </tr>\n",
       "    <tr>\n",
       "      <th>8</th>\n",
       "      <td>0.759777</td>\n",
       "      <td>0.505618</td>\n",
       "      <td>0.395480</td>\n",
       "      <td>0.306818</td>\n",
       "      <td>0.245714</td>\n",
       "      <td>0.195402</td>\n",
       "      <td>0.150289</td>\n",
       "      <td>0.110465</td>\n",
       "      <td>0.419811</td>\n",
       "    </tr>\n",
       "    <tr>\n",
       "      <th>9</th>\n",
       "      <td>0.884444</td>\n",
       "      <td>0.526786</td>\n",
       "      <td>0.340807</td>\n",
       "      <td>0.247748</td>\n",
       "      <td>0.180995</td>\n",
       "      <td>0.150000</td>\n",
       "      <td>0.118721</td>\n",
       "      <td>0.091743</td>\n",
       "      <td>0.519313</td>\n",
       "    </tr>\n",
       "  </tbody>\n",
       "</table>\n",
       "</div>"
      ],
      "text/plain": [
       "    ngram_1   ngram_2   ngram_3   ngram_4   ngram_5   ngram_6   ngram_7  \\\n",
       "0  0.398148  0.079070  0.009346  0.000000  0.000000  0.000000  0.000000   \n",
       "1  0.994924  0.974490  0.948718  0.922680  0.896373  0.869792  0.842932   \n",
       "2  0.869369  0.719457  0.613636  0.515982  0.449541  0.382488  0.319444   \n",
       "3  0.593583  0.268817  0.156757  0.108696  0.081967  0.060440  0.044199   \n",
       "4  0.544503  0.115789  0.031746  0.005319  0.000000  0.000000  0.000000   \n",
       "5  0.329502  0.053846  0.007722  0.003876  0.000000  0.000000  0.000000   \n",
       "6  0.590308  0.150442  0.035556  0.004464  0.000000  0.000000  0.000000   \n",
       "7  0.765306  0.709898  0.664384  0.625430  0.589655  0.553633  0.520833   \n",
       "8  0.759777  0.505618  0.395480  0.306818  0.245714  0.195402  0.150289   \n",
       "9  0.884444  0.526786  0.340807  0.247748  0.180995  0.150000  0.118721   \n",
       "\n",
       "    ngram_8  Normalized_LCS  \n",
       "0  0.000000        0.166667  \n",
       "1  0.815789        0.786408  \n",
       "2  0.265116        0.745536  \n",
       "3  0.027778        0.264249  \n",
       "4  0.000000        0.210811  \n",
       "5  0.000000        0.141844  \n",
       "6  0.000000        0.264000  \n",
       "7  0.487805        0.593443  \n",
       "8  0.110465        0.419811  \n",
       "9  0.091743        0.519313  "
      ]
     },
     "execution_count": 84,
     "metadata": {},
     "output_type": "execute_result"
    }
   ],
   "source": [
    "features.head(10)"
   ]
  },
  {
   "cell_type": "code",
   "execution_count": 85,
   "id": "9cdf587c",
   "metadata": {
    "scrolled": false
   },
   "outputs": [
    {
     "name": "stdout",
     "output_type": "stream",
     "text": [
      "<class 'pandas.core.frame.DataFrame'>\n",
      "RangeIndex: 95 entries, 0 to 94\n",
      "Data columns (total 9 columns):\n",
      " #   Column          Non-Null Count  Dtype  \n",
      "---  ------          --------------  -----  \n",
      " 0   ngram_1         95 non-null     float64\n",
      " 1   ngram_2         95 non-null     float64\n",
      " 2   ngram_3         95 non-null     float64\n",
      " 3   ngram_4         95 non-null     float64\n",
      " 4   ngram_5         95 non-null     float64\n",
      " 5   ngram_6         95 non-null     float64\n",
      " 6   ngram_7         95 non-null     float64\n",
      " 7   ngram_8         95 non-null     float64\n",
      " 8   Normalized_LCS  95 non-null     float64\n",
      "dtypes: float64(9)\n",
      "memory usage: 6.8 KB\n"
     ]
    }
   ],
   "source": [
    "features.info()"
   ]
  },
  {
   "cell_type": "code",
   "execution_count": 86,
   "id": "c3680bd8",
   "metadata": {},
   "outputs": [],
   "source": [
    "#concatenating the target column i,e class to the features dataframe\n",
    "features['is_plagiarized'] = data_cleaned['class']"
   ]
  },
  {
   "cell_type": "code",
   "execution_count": 121,
   "id": "e4df979a",
   "metadata": {},
   "outputs": [
    {
     "data": {
      "text/html": [
       "<div>\n",
       "<style scoped>\n",
       "    .dataframe tbody tr th:only-of-type {\n",
       "        vertical-align: middle;\n",
       "    }\n",
       "\n",
       "    .dataframe tbody tr th {\n",
       "        vertical-align: top;\n",
       "    }\n",
       "\n",
       "    .dataframe thead th {\n",
       "        text-align: right;\n",
       "    }\n",
       "</style>\n",
       "<table border=\"1\" class=\"dataframe\">\n",
       "  <thead>\n",
       "    <tr style=\"text-align: right;\">\n",
       "      <th></th>\n",
       "      <th>ngram_1</th>\n",
       "      <th>ngram_2</th>\n",
       "      <th>ngram_3</th>\n",
       "      <th>ngram_4</th>\n",
       "      <th>ngram_5</th>\n",
       "      <th>ngram_6</th>\n",
       "      <th>ngram_7</th>\n",
       "      <th>ngram_8</th>\n",
       "      <th>Normalized_LCS</th>\n",
       "      <th>is_plagiarized</th>\n",
       "    </tr>\n",
       "  </thead>\n",
       "  <tbody>\n",
       "    <tr>\n",
       "      <th>0</th>\n",
       "      <td>0.398148</td>\n",
       "      <td>0.079070</td>\n",
       "      <td>0.009346</td>\n",
       "      <td>0.000000</td>\n",
       "      <td>0.000000</td>\n",
       "      <td>0.000000</td>\n",
       "      <td>0.000000</td>\n",
       "      <td>0.000000</td>\n",
       "      <td>0.166667</td>\n",
       "      <td>0</td>\n",
       "    </tr>\n",
       "    <tr>\n",
       "      <th>1</th>\n",
       "      <td>0.994924</td>\n",
       "      <td>0.974490</td>\n",
       "      <td>0.948718</td>\n",
       "      <td>0.922680</td>\n",
       "      <td>0.896373</td>\n",
       "      <td>0.869792</td>\n",
       "      <td>0.842932</td>\n",
       "      <td>0.815789</td>\n",
       "      <td>0.786408</td>\n",
       "      <td>1</td>\n",
       "    </tr>\n",
       "    <tr>\n",
       "      <th>2</th>\n",
       "      <td>0.869369</td>\n",
       "      <td>0.719457</td>\n",
       "      <td>0.613636</td>\n",
       "      <td>0.515982</td>\n",
       "      <td>0.449541</td>\n",
       "      <td>0.382488</td>\n",
       "      <td>0.319444</td>\n",
       "      <td>0.265116</td>\n",
       "      <td>0.745536</td>\n",
       "      <td>1</td>\n",
       "    </tr>\n",
       "    <tr>\n",
       "      <th>3</th>\n",
       "      <td>0.593583</td>\n",
       "      <td>0.268817</td>\n",
       "      <td>0.156757</td>\n",
       "      <td>0.108696</td>\n",
       "      <td>0.081967</td>\n",
       "      <td>0.060440</td>\n",
       "      <td>0.044199</td>\n",
       "      <td>0.027778</td>\n",
       "      <td>0.264249</td>\n",
       "      <td>1</td>\n",
       "    </tr>\n",
       "    <tr>\n",
       "      <th>4</th>\n",
       "      <td>0.544503</td>\n",
       "      <td>0.115789</td>\n",
       "      <td>0.031746</td>\n",
       "      <td>0.005319</td>\n",
       "      <td>0.000000</td>\n",
       "      <td>0.000000</td>\n",
       "      <td>0.000000</td>\n",
       "      <td>0.000000</td>\n",
       "      <td>0.210811</td>\n",
       "      <td>0</td>\n",
       "    </tr>\n",
       "    <tr>\n",
       "      <th>5</th>\n",
       "      <td>0.329502</td>\n",
       "      <td>0.053846</td>\n",
       "      <td>0.007722</td>\n",
       "      <td>0.003876</td>\n",
       "      <td>0.000000</td>\n",
       "      <td>0.000000</td>\n",
       "      <td>0.000000</td>\n",
       "      <td>0.000000</td>\n",
       "      <td>0.141844</td>\n",
       "      <td>0</td>\n",
       "    </tr>\n",
       "    <tr>\n",
       "      <th>6</th>\n",
       "      <td>0.590308</td>\n",
       "      <td>0.150442</td>\n",
       "      <td>0.035556</td>\n",
       "      <td>0.004464</td>\n",
       "      <td>0.000000</td>\n",
       "      <td>0.000000</td>\n",
       "      <td>0.000000</td>\n",
       "      <td>0.000000</td>\n",
       "      <td>0.264000</td>\n",
       "      <td>0</td>\n",
       "    </tr>\n",
       "    <tr>\n",
       "      <th>7</th>\n",
       "      <td>0.765306</td>\n",
       "      <td>0.709898</td>\n",
       "      <td>0.664384</td>\n",
       "      <td>0.625430</td>\n",
       "      <td>0.589655</td>\n",
       "      <td>0.553633</td>\n",
       "      <td>0.520833</td>\n",
       "      <td>0.487805</td>\n",
       "      <td>0.593443</td>\n",
       "      <td>1</td>\n",
       "    </tr>\n",
       "    <tr>\n",
       "      <th>8</th>\n",
       "      <td>0.759777</td>\n",
       "      <td>0.505618</td>\n",
       "      <td>0.395480</td>\n",
       "      <td>0.306818</td>\n",
       "      <td>0.245714</td>\n",
       "      <td>0.195402</td>\n",
       "      <td>0.150289</td>\n",
       "      <td>0.110465</td>\n",
       "      <td>0.419811</td>\n",
       "      <td>1</td>\n",
       "    </tr>\n",
       "    <tr>\n",
       "      <th>9</th>\n",
       "      <td>0.884444</td>\n",
       "      <td>0.526786</td>\n",
       "      <td>0.340807</td>\n",
       "      <td>0.247748</td>\n",
       "      <td>0.180995</td>\n",
       "      <td>0.150000</td>\n",
       "      <td>0.118721</td>\n",
       "      <td>0.091743</td>\n",
       "      <td>0.519313</td>\n",
       "      <td>1</td>\n",
       "    </tr>\n",
       "  </tbody>\n",
       "</table>\n",
       "</div>"
      ],
      "text/plain": [
       "    ngram_1   ngram_2   ngram_3   ngram_4   ngram_5   ngram_6   ngram_7  \\\n",
       "0  0.398148  0.079070  0.009346  0.000000  0.000000  0.000000  0.000000   \n",
       "1  0.994924  0.974490  0.948718  0.922680  0.896373  0.869792  0.842932   \n",
       "2  0.869369  0.719457  0.613636  0.515982  0.449541  0.382488  0.319444   \n",
       "3  0.593583  0.268817  0.156757  0.108696  0.081967  0.060440  0.044199   \n",
       "4  0.544503  0.115789  0.031746  0.005319  0.000000  0.000000  0.000000   \n",
       "5  0.329502  0.053846  0.007722  0.003876  0.000000  0.000000  0.000000   \n",
       "6  0.590308  0.150442  0.035556  0.004464  0.000000  0.000000  0.000000   \n",
       "7  0.765306  0.709898  0.664384  0.625430  0.589655  0.553633  0.520833   \n",
       "8  0.759777  0.505618  0.395480  0.306818  0.245714  0.195402  0.150289   \n",
       "9  0.884444  0.526786  0.340807  0.247748  0.180995  0.150000  0.118721   \n",
       "\n",
       "    ngram_8  Normalized_LCS  is_plagiarized  \n",
       "0  0.000000        0.166667               0  \n",
       "1  0.815789        0.786408               1  \n",
       "2  0.265116        0.745536               1  \n",
       "3  0.027778        0.264249               1  \n",
       "4  0.000000        0.210811               0  \n",
       "5  0.000000        0.141844               0  \n",
       "6  0.000000        0.264000               0  \n",
       "7  0.487805        0.593443               1  \n",
       "8  0.110465        0.419811               1  \n",
       "9  0.091743        0.519313               1  "
      ]
     },
     "execution_count": 121,
     "metadata": {},
     "output_type": "execute_result"
    }
   ],
   "source": [
    "features.head(10)"
   ]
  },
  {
   "cell_type": "code",
   "execution_count": 179,
   "id": "bf6bcea6",
   "metadata": {},
   "outputs": [
    {
     "data": {
      "text/plain": [
       "Text(0.5, 1.0, 'Distribution of target')"
      ]
     },
     "execution_count": 179,
     "metadata": {},
     "output_type": "execute_result"
    },
    {
     "data": {
      "image/png": "[encoded data removed]",
      "text/plain": [
       "<Figure size 432x288 with 1 Axes>"
      ]
     },
     "metadata": {},
     "output_type": "display_data"
    }
   ],
   "source": [
    "sns.countplot(features['is_plagiarized'])\n",
    "plt.title(\"Distribution of target\")"
   ]
  },
  {
   "cell_type": "markdown",
   "id": "dba65c0d",
   "metadata": {},
   "source": [
    "* The data is slightly imbalanced\n",
    "* f1 score will be the best metric to evaluate model since the target class in the data is imbalanced"
   ]
  },
  {
   "cell_type": "code",
   "execution_count": 88,
   "id": "127d66c6",
   "metadata": {},
   "outputs": [],
   "source": [
    "#saving the features into csv\n",
    "features.to_csv(\"Extracted_Features.csv\")"
   ]
  },
  {
   "cell_type": "markdown",
   "id": "2eab29e3",
   "metadata": {},
   "source": [
    "#### Creating train and test split"
   ]
  },
  {
   "cell_type": "code",
   "execution_count": 148,
   "id": "6f020f02",
   "metadata": {},
   "outputs": [
    {
     "name": "stdout",
     "output_type": "stream",
     "text": [
      "shape of the training data (80, 9)\n",
      "shape of the training data (15, 9)\n",
      "Target class distribution in the training set Counter({1: 49, 0: 31})\n",
      "Target class distribution in the testing set Counter({1: 8, 0: 7})\n"
     ]
    }
   ],
   "source": [
    "#splitting the data into train and test set\n",
    "X=features.loc[:,features.columns!='is_plagiarized']\n",
    "y = features['is_plagiarized']\n",
    "x_train,x_test,y_train,y_test=train_test_split(X,y,test_size=0.15,random_state=717)\n",
    "print(\"shape of the training data\",x_train.shape)\n",
    "print(\"shape of the training data\",x_test.shape)\n",
    "print(\"Target class distribution in the training set\",Counter(y_train))\n",
    "print(\"Target class distribution in the testing set\",Counter(y_test))"
   ]
  },
  {
   "cell_type": "markdown",
   "id": "30afd43a",
   "metadata": {},
   "source": [
    "### Model Building\n",
    "* Using Random Forest Classifier to build the model"
   ]
  },
  {
   "cell_type": "code",
   "execution_count": 149,
   "id": "c6b21b0f",
   "metadata": {},
   "outputs": [
    {
     "data": {
      "text/plain": [
       "RandomForestClassifier()"
      ]
     },
     "execution_count": 149,
     "metadata": {},
     "output_type": "execute_result"
    }
   ],
   "source": [
    "#training the model on the testing data\n",
    "model = RandomForestClassifier()\n",
    "model.fit(x_train,y_train)"
   ]
  },
  {
   "cell_type": "code",
   "execution_count": 115,
   "id": "5e116fc1",
   "metadata": {},
   "outputs": [],
   "source": [
    "#creating a function to generate report and to evaluate model on the testing data\n",
    "def report(model,test_data,actual_labels):\n",
    "    pred = model.predict(test_data)\n",
    "    pred_prob = model.predict_proba(test_data)\n",
    "    fpr,tpr,thresh = roc_curve(actual_labels,pred_prob[:,1],pos_label=1)\n",
    "    print(f\"f1-score: {f1_score(actual_labels,pred)}\")\n",
    "    print(f\"AUC Score: {round(roc_auc_score(actual_labels,pred_prob[:,1]),2)}\")\n",
    "    print(\"Classification report\\n\",classification_report(actual_labels,pred))\n",
    "    plt.figure(figsize=(12,5))\n",
    "    plt.subplot(1,2,1)\n",
    "    plt.plot(fpr,tpr,linestyle=\"--\",color='r')\n",
    "    plt.title(\"ROC Curve\")\n",
    "    plt.subplot(1,2,2)\n",
    "    sns.heatmap(confusion_matrix(actual_labels,pred),annot=True,fmt=\".1f\")\n",
    "    plt.title(\"Confusion Matrix\")"
   ]
  },
  {
   "cell_type": "code",
   "execution_count": 166,
   "id": "a4fb7d8e",
   "metadata": {},
   "outputs": [
    {
     "name": "stdout",
     "output_type": "stream",
     "text": [
      "f1_score for training data: 1.0\n"
     ]
    }
   ],
   "source": [
    "print(\"f1_score for training data:\",f1_score(model.predict(x_train),y_train))"
   ]
  },
  {
   "cell_type": "code",
   "execution_count": 154,
   "id": "00f8ff0f",
   "metadata": {
    "scrolled": true
   },
   "outputs": [
    {
     "name": "stdout",
     "output_type": "stream",
     "text": [
      "f1-score: 0.9333333333333333\n",
      "AUC Score: 0.88\n",
      "Classification report\n",
      "               precision    recall  f1-score   support\n",
      "\n",
      "           0       0.88      1.00      0.93         7\n",
      "           1       1.00      0.88      0.93         8\n",
      "\n",
      "    accuracy                           0.93        15\n",
      "   macro avg       0.94      0.94      0.93        15\n",
      "weighted avg       0.94      0.93      0.93        15\n",
      "\n"
     ]
    },
    {
     "data": {
      "image/png": "[encoded data removed]",
      "text/plain": [
       "<Figure size 864x360 with 3 Axes>"
      ]
     },
     "metadata": {},
     "output_type": "display_data"
    }
   ],
   "source": [
    "report(model,x_test,y_test)"
   ]
  },
  {
   "cell_type": "markdown",
   "id": "56daf093",
   "metadata": {},
   "source": [
    "* The model has a f1 score of 1.0 on training data and 0.93 on the testing data\n",
    "* The model is slightly overfitting"
   ]
  },
  {
   "cell_type": "code",
   "execution_count": 172,
   "id": "c517e696",
   "metadata": {},
   "outputs": [
    {
     "name": "stdout",
     "output_type": "stream",
     "text": [
      "f1_score of the model after cross validation: 0.94\n"
     ]
    }
   ],
   "source": [
    "#cross validation\n",
    "from sklearn.model_selection import KFold , cross_val_score\n",
    "cross_val = KFold(n_splits=10,random_state=1,shuffle=True)\n",
    "scores = cross_val_score(model,X,y,scoring=\"f1\",cv=cross_val,n_jobs=-1)\n",
    "print(\"f1_score of the model after cross validation:\",round(np.mean(scores),2))"
   ]
  },
  {
   "cell_type": "code",
   "execution_count": 159,
   "id": "03432eab",
   "metadata": {},
   "outputs": [
    {
     "name": "stdout",
     "output_type": "stream",
     "text": [
      "Fitting 5 folds for each of 100 candidates, totalling 500 fits\n"
     ]
    },
    {
     "data": {
      "text/plain": [
       "RandomizedSearchCV(cv=5, estimator=RandomForestClassifier(), n_iter=100,\n",
       "                   n_jobs=-1,\n",
       "                   param_distributions={'max_depth': [2, 3, 4, 5, 7, 8, 10, 20,\n",
       "                                                      None],\n",
       "                                        'min_samples_leaf': [1, 2, 5, 10],\n",
       "                                        'min_samples_split': [2, 3, 5, 10, 15,\n",
       "                                                              20],\n",
       "                                        'n_estimators': [100, 200, 400, 500]},\n",
       "                   scoring='f1', verbose=1)"
      ]
     },
     "execution_count": 159,
     "metadata": {},
     "output_type": "execute_result"
    }
   ],
   "source": [
    "#hyperparameter tuning using Randomized search CV\n",
    "from sklearn.model_selection import RandomizedSearchCV\n",
    "params={'n_estimators':[100,200,400,500],\n",
    "       'max_depth':[2,3,4,5,7,8,10,20,None],\n",
    "        'min_samples_split':[2,3,5,10,15,20],\n",
    "        'min_samples_leaf':[1,2,5,10]\n",
    "       }\n",
    "model2 = RandomizedSearchCV(model,param_distributions=params,cv=5,n_jobs=-1,scoring=\"f1\",n_iter=100,verbose=1)\n",
    "model2.fit(x_train,y_train)"
   ]
  },
  {
   "cell_type": "code",
   "execution_count": 162,
   "id": "12dfcb65",
   "metadata": {
    "scrolled": false
   },
   "outputs": [
    {
     "data": {
      "text/plain": [
       "{'n_estimators': 100,\n",
       " 'min_samples_split': 2,\n",
       " 'min_samples_leaf': 5,\n",
       " 'max_depth': 10}"
      ]
     },
     "execution_count": 162,
     "metadata": {},
     "output_type": "execute_result"
    }
   ],
   "source": [
    "model2.best_params_"
   ]
  },
  {
   "cell_type": "code",
   "execution_count": 173,
   "id": "63ea1ada",
   "metadata": {},
   "outputs": [
    {
     "name": "stdout",
     "output_type": "stream",
     "text": [
      "f1-score: 0.9333333333333333\n",
      "AUC Score: 0.88\n",
      "Classification report\n",
      "               precision    recall  f1-score   support\n",
      "\n",
      "           0       0.88      1.00      0.93         7\n",
      "           1       1.00      0.88      0.93         8\n",
      "\n",
      "    accuracy                           0.93        15\n",
      "   macro avg       0.94      0.94      0.93        15\n",
      "weighted avg       0.94      0.93      0.93        15\n",
      "\n"
     ]
    },
    {
     "data": {
      "image/png": "[encoded data removed]",
      "text/plain": [
       "<Figure size 864x360 with 3 Axes>"
      ]
     },
     "metadata": {},
     "output_type": "display_data"
    }
   ],
   "source": [
    "report(model2,x_test,y_test)"
   ]
  },
  {
   "cell_type": "code",
   "execution_count": 176,
   "id": "110148e0",
   "metadata": {},
   "outputs": [
    {
     "name": "stdout",
     "output_type": "stream",
     "text": [
      "f1_score on the training data: 0.98\n"
     ]
    }
   ],
   "source": [
    "print(\"f1_score on the training data:\",round(f1_score(model2.predict(x_train),y_train),2))"
   ]
  },
  {
   "cell_type": "markdown",
   "id": "710063ff",
   "metadata": {},
   "source": [
    "* for the hyperparameter tuned model, the training f1-score i 0.98 and testing f1-score of 0.93\n",
    "* The overfitting has been taken cared of, the model is performing well on the data with 94% accuracy"
   ]
  },
  {
   "cell_type": "code",
   "execution_count": 178,
   "id": "2bee6824",
   "metadata": {},
   "outputs": [],
   "source": [
    "#saving the model\n",
    "import pickle\n",
    "pickle.dump(model2,open(\"finalized_model.pkl\",\"wb\"))"
   ]
  }
 ],
 "metadata": {
  "kernelspec": {
   "display_name": "Python 3 (ipykernel)",
   "language": "python",
   "name": "python3"
  },
  "language_info": {
   "codemirror_mode": {
    "name": "ipython",
    "version": 3
   },
   "file_extension": ".py",
   "mimetype": "text/x-python",
   "name": "python",
   "nbconvert_exporter": "python",
   "pygments_lexer": "ipython3",
   "version": "3.9.12"
  }
 },
 "nbformat": 4,
 "nbformat_minor": 5
}
